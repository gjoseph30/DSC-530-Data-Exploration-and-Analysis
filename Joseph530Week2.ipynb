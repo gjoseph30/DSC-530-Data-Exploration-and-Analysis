{
 "cells": [
  {
   "cell_type": "code",
   "execution_count": 1,
   "id": "ea2730d8-0844-47df-9718-3a7ee6b85dbf",
   "metadata": {},
   "outputs": [
    {
     "name": "stdout",
     "output_type": "stream",
     "text": [
      "Hello World! My name is Georgette Joseph!\n",
      "Addition Result: 105\n",
      "Subtraction Result: 55\n",
      "Multiplication Result: 144\n",
      "Division Result: 20.0\n",
      "Concatenated String: Ice Cream\n",
      "Initial List: [11, 'Data', 25, 'Exploration']\n",
      "List after Append: [11, 'Data', 25, 'Exploration', 'Analysis']\n",
      "Tuple: (5, 'Data', 15, 'Science')\n"
     ]
    }
   ],
   "source": [
    "# Assignment 2.1\n",
    "# Georgette Joseph\n",
    "# 12/08/2024\n",
    "\n",
    "# Display the text “Hello World! My name is ...\n",
    "print(\"Hello World! My name is Georgette Joseph!\")  \n",
    "\n",
    "# Add two numbers together\n",
    "num1 = 25\n",
    "num2 = 80\n",
    "addition_result = num1 + num2\n",
    "print(\"Addition Result:\", addition_result)  \n",
    "\n",
    "# Subtract a number from another number\n",
    "num3 = 100\n",
    "num4 = 45\n",
    "subtraction_result = num3 - num4\n",
    "print(\"Subtraction Result:\", subtraction_result)\n",
    "\n",
    "# Multiply two numbers\n",
    "num5 = 24\n",
    "num6 = 6\n",
    "multiplication_result = num5 * num6\n",
    "print(\"Multiplication Result:\", multiplication_result)  \n",
    "\n",
    "# Divide two numbers\n",
    "num7 = 500\n",
    "num8 = 25\n",
    "division_result = num7 / num8\n",
    "print(\"Division Result:\", division_result)  \n",
    "\n",
    "# Concatenate two strings together\n",
    "string1 = \"Ice\"\n",
    "string2 = \"Cream\"\n",
    "concatenated_string = string1 + \" \" + string2  \n",
    "print(\"Concatenated String:\", concatenated_string)  \n",
    "\n",
    "# Create a list of 4 items (mixed data types)\n",
    "my_list = [11, \"Data\", 25, \"Exploration\"]\n",
    "print(\"Initial List:\", my_list)  \n",
    "\n",
    "# Append an item to the list\n",
    "my_list.append(\"Analysis\") \n",
    "print(\"List after Append:\", my_list)  \n",
    "\n",
    "# Create a tuple with 4 items (mixed data types)\n",
    "my_tuple = (5, \"Data\", 15, \"Science\")\n",
    "print(\"Tuple:\", my_tuple)  \n"
   ]
  }
 ],
 "metadata": {
  "kernelspec": {
   "display_name": "Python 3 (ipykernel)",
   "language": "python",
   "name": "python3"
  },
  "language_info": {
   "codemirror_mode": {
    "name": "ipython",
    "version": 3
   },
   "file_extension": ".py",
   "mimetype": "text/x-python",
   "name": "python",
   "nbconvert_exporter": "python",
   "pygments_lexer": "ipython3",
   "version": "3.12.7"
  }
 },
 "nbformat": 4,
 "nbformat_minor": 5
}
