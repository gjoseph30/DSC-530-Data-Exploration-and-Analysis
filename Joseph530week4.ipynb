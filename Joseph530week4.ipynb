{
 "cells": [
  {
   "cell_type": "code",
   "execution_count": 9,
   "id": "f652f20e-0a96-4ea0-a4b3-12c801c257b5",
   "metadata": {},
   "outputs": [
    {
     "name": "stdout",
     "output_type": "stream",
     "text": [
      "Actual mean: 1.024205155043831\n",
      "Biased mean: 2.403679100664282\n"
     ]
    },
    {
     "data": {
      "image/png": "[encoded data removed]",
      "text/plain": [
       "<Figure size 640x480 with 1 Axes>"
      ]
     },
     "metadata": {},
     "output_type": "display_data"
    }
   ],
   "source": [
    "# Assignment 4.2\n",
    "# Georgette Joseph\n",
    "# 12/21/2024\n",
    "\n",
    "import nsfg\n",
    "import thinkstats2\n",
    "import thinkplot\n",
    "\n",
    "# Load the NSFG respondent data\n",
    "resp = nsfg.ReadFemResp(dct_file='2002FemResp.dct', dat_file='2002FemResp.dat.gz')\n",
    "\n",
    "# Extract the NUMKDHH variable (number of children under 18 in the household)\n",
    "num_kids = resp['numkdhh'].dropna()\n",
    "\n",
    "# Construct the actual PMF\n",
    "actual_pmf = thinkstats2.Pmf(num_kids, label=\"Actual\")\n",
    "\n",
    "# Define a function to compute the biased PMF\n",
    "def BiasChildrenPmf(pmf, label):\n",
    "    biased_pmf = pmf.Copy(label=label)\n",
    "    for x, p in pmf.Items():\n",
    "        biased_pmf.Mult(x, x)  # Multiply probability by the number of children\n",
    "    biased_pmf.Normalize()\n",
    "    return biased_pmf\n",
    "\n",
    "# Compute the biased PMF\n",
    "biased_pmf = BiasChildrenPmf(actual_pmf, label=\"Biased\")\n",
    "\n",
    "# Plot the actual and biased PMFs\n",
    "thinkplot.PrePlot(2)\n",
    "thinkplot.Pmfs([actual_pmf, biased_pmf])\n",
    "thinkplot.Config(xlabel=\"Number of children under 18\", ylabel=\"PMF\", title=\"Actual vs Biased PMF\")\n",
    "\n",
    "# Compute and print the means of the distributions\n",
    "actual_mean = actual_pmf.Mean()\n",
    "biased_mean = biased_pmf.Mean()\n",
    "print(f\"Actual mean: {actual_mean}\")\n",
    "print(f\"Biased mean: {biased_mean}\")\n"
   ]
  },
  {
   "cell_type": "code",
   "execution_count": 22,
   "id": "137665f9-6346-432e-8d01-4c57d2e54d78",
   "metadata": {},
   "outputs": [
    {
     "name": "stdout",
     "output_type": "stream",
     "text": [
      "Computed Mean: 2.4000000000000004, Built-in Mean: 2.4000000000000004\n",
      "Computed Variance: 1.04, Built-in Variance: 1.04\n"
     ]
    }
   ],
   "source": [
    "# Define the functions PmfMean and PmfVar\n",
    "def PmfMean(pmf):\n",
    "    \"\"\"Computes the mean of a PMF.\"\"\"\n",
    "    return sum(p * x for x, p in pmf.Items())\n",
    "\n",
    "def PmfVar(pmf, mean=None):\n",
    "    \"\"\"Computes the variance of a PMF.\"\"\"\n",
    "    if mean is None:\n",
    "        mean = PmfMean(pmf)\n",
    "    return sum(p * (x - mean) ** 2 for x, p in pmf.Items())\n",
    "\n",
    "# Test the functions on a sample PMF\n",
    "import thinkstats2\n",
    "test_pmf = thinkstats2.Pmf([1, 2, 2, 3, 4], label=\"Test PMF\")\n",
    "\n",
    "# Compute mean and variance using the custom functions\n",
    "computed_mean = PmfMean(test_pmf)\n",
    "computed_var = PmfVar(test_pmf, mean=computed_mean)\n",
    "\n",
    "# Compute mean and variance using the built-in methods\n",
    "builtin_mean = test_pmf.Mean()\n",
    "builtin_var = test_pmf.Var()\n",
    "\n",
    "# Output the results\n",
    "print(f\"Computed Mean: {computed_mean}, Built-in Mean: {builtin_mean}\")\n",
    "print(f\"Computed Variance: {computed_var}, Built-in Variance: {builtin_var}\")\n"
   ]
  },
  {
   "cell_type": "code",
   "execution_count": 24,
   "id": "4be50f40-5f58-4546-90c6-c55fd6b7bee0",
   "metadata": {},
   "outputs": [
    {
     "data": {
      "text/plain": [
       "<module 'nsfg' from 'C:\\\\Users\\\\gjose\\\\nsfg.py'>"
      ]
     },
     "execution_count": 24,
     "metadata": {},
     "output_type": "execute_result"
    }
   ],
   "source": [
    "import importlib\n",
    "import nsfg\n",
    "importlib.reload(nsfg)\n"
   ]
  },
  {
   "cell_type": "code",
   "execution_count": 35,
   "id": "d678e8fb-cc12-49e0-b2d6-db677baa9820",
   "metadata": {},
   "outputs": [
    {
     "name": "stderr",
     "output_type": "stream",
     "text": [
      "C:\\Users\\gjose\\nsfg.py:68: FutureWarning: A value is trying to be set on a copy of a DataFrame or Series through chained assignment using an inplace method.\n",
      "The behavior will change in pandas 3.0. This inplace method will never work because the intermediate object on which we are setting values always behaves as a copy.\n",
      "\n",
      "For example, when doing 'df[col].method(value, inplace=True)', try using 'df.method({col: value}, inplace=True)' or df[col] = df[col].method(value) instead, to perform the operation inplace on the original object.\n",
      "\n",
      "\n",
      "  df.birthwgt_lb.replace(na_vals, np.nan, inplace=True)\n",
      "C:\\Users\\gjose\\nsfg.py:69: FutureWarning: A value is trying to be set on a copy of a DataFrame or Series through chained assignment using an inplace method.\n",
      "The behavior will change in pandas 3.0. This inplace method will never work because the intermediate object on which we are setting values always behaves as a copy.\n",
      "\n",
      "For example, when doing 'df[col].method(value, inplace=True)', try using 'df.method({col: value}, inplace=True)' or df[col] = df[col].method(value) instead, to perform the operation inplace on the original object.\n",
      "\n",
      "\n",
      "  df.birthwgt_oz.replace(na_vals, np.nan, inplace=True)\n",
      "C:\\Users\\gjose\\nsfg.py:70: FutureWarning: A value is trying to be set on a copy of a DataFrame or Series through chained assignment using an inplace method.\n",
      "The behavior will change in pandas 3.0. This inplace method will never work because the intermediate object on which we are setting values always behaves as a copy.\n",
      "\n",
      "For example, when doing 'df[col].method(value, inplace=True)', try using 'df.method({col: value}, inplace=True)' or df[col] = df[col].method(value) instead, to perform the operation inplace on the original object.\n",
      "\n",
      "\n",
      "  df.hpagelb.replace(na_vals, np.nan, inplace=True)\n",
      "C:\\Users\\gjose\\nsfg.py:72: FutureWarning: A value is trying to be set on a copy of a DataFrame or Series through chained assignment using an inplace method.\n",
      "The behavior will change in pandas 3.0. This inplace method will never work because the intermediate object on which we are setting values always behaves as a copy.\n",
      "\n",
      "For example, when doing 'df[col].method(value, inplace=True)', try using 'df.method({col: value}, inplace=True)' or df[col] = df[col].method(value) instead, to perform the operation inplace on the original object.\n",
      "\n",
      "\n",
      "  df.babysex.replace([7, 9], np.nan, inplace=True)\n",
      "C:\\Users\\gjose\\nsfg.py:73: FutureWarning: A value is trying to be set on a copy of a DataFrame or Series through chained assignment using an inplace method.\n",
      "The behavior will change in pandas 3.0. This inplace method will never work because the intermediate object on which we are setting values always behaves as a copy.\n",
      "\n",
      "For example, when doing 'df[col].method(value, inplace=True)', try using 'df.method({col: value}, inplace=True)' or df[col] = df[col].method(value) instead, to perform the operation inplace on the original object.\n",
      "\n",
      "\n",
      "  df.nbrnaliv.replace([9], np.nan, inplace=True)\n"
     ]
    },
    {
     "name": "stdin",
     "output_type": "stream",
     "text": [
      "Enter your birth weight (in pounds):  9\n",
      "Were you a first baby? (yes/no):  yes\n"
     ]
    },
    {
     "name": "stdout",
     "output_type": "stream",
     "text": [
      "Your birth weight is in the 93.1th percentile.\n",
      "You should call your mother and apologize!\n"
     ]
    }
   ],
   "source": [
    "import nsfg\n",
    "import thinkstats2\n",
    "import thinkplot\n",
    "import numpy as np\n",
    "\n",
    "# Define a local version of CleanFemPreg\n",
    "def CleanFemPreg(df):\n",
    "    \"\"\"Recodes variables from the pregnancy frame.\n",
    "\n",
    "    df: DataFrame\n",
    "    \"\"\"\n",
    "    # mother's age is encoded in centiyears; convert to years\n",
    "    df['agepreg'] = df['agepreg'] / 100.0\n",
    "\n",
    "    # Replace invalid values in birthwgt_lb\n",
    "    df.loc[df['birthwgt_lb'] > 20, 'birthwgt_lb'] = np.nan\n",
    "\n",
    "    # Replace 'not ascertained', 'refused', 'don't know' with NaN\n",
    "    na_vals = [97, 98, 99]\n",
    "    df['birthwgt_lb'] = df['birthwgt_lb'].replace(na_vals, np.nan)\n",
    "    df['birthwgt_oz'] = df['birthwgt_oz'].replace(na_vals, np.nan)\n",
    "    df['hpagelb'] = df['hpagelb'].replace(na_vals, np.nan)\n",
    "    df['babysex'] = df['babysex'].replace([7, 9], np.nan)\n",
    "    df['nbrnaliv'] = df['nbrnaliv'].replace([9], np.nan)\n",
    "\n",
    "    # Combine birthwgt_lb and birthwgt_oz into totalwgt_lb\n",
    "    df['totalwgt_lb'] = df['birthwgt_lb'] + df['birthwgt_oz'] / 16.0\n",
    "\n",
    "    # Set the last variable to NaN (fix ReadStataDct bug)\n",
    "    df['cmintvw'] = np.nan\n",
    "\n",
    "# Load the NSFG pregnancy data without relying on CleanFemPreg in nsfg.py\n",
    "data = nsfg.ReadFemPreg(dct_file='2002FemPreg.dct', dat_file='2002FemPreg.dat.gz')\n",
    "\n",
    "# Clean the data using the local CleanFemPreg function\n",
    "CleanFemPreg(data)\n",
    "\n",
    "# Extract birth weights for all live births\n",
    "live_births = data[data['outcome'] == 1]\n",
    "birth_weights = live_births['totalwgt_lb'].dropna()\n",
    "\n",
    "# Separate first babies and others\n",
    "first_babies = live_births[live_births['birthord'] == 1]['totalwgt_lb'].dropna()\n",
    "other_babies = live_births[live_births['birthord'] != 1]['totalwgt_lb'].dropna()\n",
    "\n",
    "# Ask the user for their birth weight and whether they are a first baby\n",
    "your_weight = float(input(\"Enter your birth weight (in pounds): \"))\n",
    "first_baby = input(\"Were you a first baby? (yes/no): \").strip().lower() == 'yes'\n",
    "\n",
    "# Choose the appropriate distribution\n",
    "distribution = first_babies if first_baby else other_babies\n",
    "\n",
    "# Compute the percentile rank\n",
    "def PercentileRank(scores, your_score):\n",
    "    \"\"\"Computes the percentile rank of a score.\"\"\"\n",
    "    count = sum(1 for score in scores if score <= your_score)\n",
    "    return 100.0 * count / len(scores)\n",
    "\n",
    "percentile = PercentileRank(distribution, your_weight)\n",
    "\n",
    "# Print results\n",
    "print(f\"Your birth weight is in the {percentile:.1f}th percentile.\")\n",
    "if percentile >= 90:\n",
    "    print(\"You should call your mother and apologize!\")\n"
   ]
  },
  {
   "cell_type": "code",
   "execution_count": 41,
   "id": "3fd207f1-bf05-456f-b7dd-f1adf5e22eb3",
   "metadata": {},
   "outputs": [
    {
     "data": {
      "image/png": "[encoded data removed]",
      "text/plain": [
       "<Figure size 640x480 with 1 Axes>"
      ]
     },
     "metadata": {},
     "output_type": "display_data"
    }
   ],
   "source": [
    "import random\n",
    "import thinkstats2\n",
    "import thinkplot\n",
    "\n",
    "# Generate 1000 random numbers\n",
    "random_numbers = [random.random() for _ in range(1000)]\n",
    "\n",
    "# Compute PMF and CDF\n",
    "pmf = thinkstats2.Pmf(random_numbers, label=\"PMF\")\n",
    "cdf = thinkstats2.Cdf(random_numbers, label=\"CDF\")\n",
    "\n",
    "# Plot PMF and CDF with different styles\n",
    "thinkplot.PrePlot(2)\n",
    "thinkplot.Pmf(pmf, color='blue')  # PMF in blue\n",
    "thinkplot.Cdf(cdf, color='red')   # CDF in red\n",
    "thinkplot.Config(title=\"PMF and CDF of Random Numbers\", xlabel=\"Value\", ylabel=\"Probability\")\n"
   ]
  },
  {
   "cell_type": "code",
   "execution_count": null,
   "id": "06fe7595-fdcb-487a-8051-384ad097178d",
   "metadata": {},
   "outputs": [],
   "source": [
    "# Yes, the distribution is uniform. \n",
    "# The PMF shows that the random numbers are evenly distributed across the range of 0 to 1.\n",
    "# The CDF shows a diagonal line, which is a characteristic of uniform distribution."
   ]
  },
  {
   "cell_type": "code",
   "execution_count": null,
   "id": "04af0b77-7352-4137-b07e-b5c32041f94c",
   "metadata": {},
   "outputs": [],
   "source": []
  }
 ],
 "metadata": {
  "kernelspec": {
   "display_name": "Python 3 (ipykernel)",
   "language": "python",
   "name": "python3"
  },
  "language_info": {
   "codemirror_mode": {
    "name": "ipython",
    "version": 3
   },
   "file_extension": ".py",
   "mimetype": "text/x-python",
   "name": "python",
   "nbconvert_exporter": "python",
   "pygments_lexer": "ipython3",
   "version": "3.12.7"
  }
 },
 "nbformat": 4,
 "nbformat_minor": 5
}
